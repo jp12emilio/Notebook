{
 "cells": [
  {
   "cell_type": "code",
   "execution_count": 1,
   "metadata": {},
   "outputs": [],
   "source": [
    "from faker import Faker\n",
    "fake = Faker('es_Es')"
   ]
  },
  {
   "cell_type": "code",
   "execution_count": 2,
   "metadata": {},
   "outputs": [
    {
     "name": "stdout",
     "output_type": "stream",
     "text": [
      "tfonseca@yahoo.com\n",
      "arnaizricardo@quiroga-bou.com\n",
      "perezsilvia@gmail.com\n",
      "patriciamoraleda@baez-salas.com\n",
      "elago@yahoo.com\n",
      "cfarre@agullo.com\n",
      "yvicente@yahoo.com\n",
      "rafaelsanmartin@gmail.com\n",
      "xcatala@montesinos.biz\n",
      "barberosergio@hotmail.com\n",
      "espanolalejandro@yahoo.com\n",
      "checafrancisco-javier@sedano.org\n",
      "pinedoana@tejada.com\n",
      "nerea68@hotmail.com\n",
      "victor-manuel42@llabres.com\n",
      "ana66@ariza.com\n",
      "patricia99@hotmail.com\n",
      "villalobosmiguel@alcolea.com\n",
      "jmanuel@hotmail.com\n",
      "soniafonseca@valbuena-pinedo.com\n",
      "remedioshervas@verdugo.com\n",
      "andrescampo@hotmail.com\n",
      "julianpatricia@hotmail.com\n",
      "escamillamarcos@hotmail.com\n",
      "vicenteiriarte@gallego.net\n"
     ]
    }
   ],
   "source": [
    "variable=[]\n",
    "for _ in range(25,50):\n",
    "    variable=fake.email()\n",
    "    print (variable)"
   ]
  },
  {
   "cell_type": "code",
   "execution_count": null,
   "metadata": {},
   "outputs": [],
   "source": []
  }
 ],
 "metadata": {
  "kernelspec": {
   "display_name": "Python 3",
   "language": "python",
   "name": "python3"
  },
  "language_info": {
   "codemirror_mode": {
    "name": "ipython",
    "version": 3
   },
   "file_extension": ".py",
   "mimetype": "text/x-python",
   "name": "python",
   "nbconvert_exporter": "python",
   "pygments_lexer": "ipython3",
   "version": "3.6.6"
  }
 },
 "nbformat": 4,
 "nbformat_minor": 2
}
